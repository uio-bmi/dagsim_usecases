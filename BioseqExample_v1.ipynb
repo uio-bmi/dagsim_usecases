{
 "cells": [
  {
   "cell_type": "code",
   "execution_count": null,
   "metadata": {},
   "outputs": [],
   "source": [
    "import numpy\n",
    "import random\n",
    "from itertools import product\n",
    "import dagsim.base as ds"
   ]
  },
  {
   "cell_type": "code",
   "execution_count": null,
   "metadata": {
    "pycharm": {
     "name": "#%%\n"
    }
   },
   "outputs": [],
   "source": [
    "\n",
    "BASE_SEQ_FN = \"olga.txt\"\n",
    "AIRR_SIZE = 10\n",
    "\n",
    "\n",
    "def _get_olga_seq(protocol):\n",
    "    for line in open(BASE_SEQ_FN):\n",
    "        seq = line.strip()\n",
    "        if len(seq) < 10:\n",
    "            continue\n",
    "        if protocol == 1 and not seq.startswith(\"ASS\"):\n",
    "            continue\n",
    "        yield seq\n",
    "\n",
    "\n",
    "def assign_protocol(disease):\n",
    "    return numpy.random.binomial(1, 0.1 + 0.8 * disease)\n",
    "\n",
    "\n",
    "def create_airr(disease, age, protocol):\n",
    "    airr = []\n",
    "    left = AIRR_SIZE\n",
    "    for seq in _get_olga_seq(protocol):\n",
    "        if left == 0:\n",
    "            break\n",
    "        if disease == 1:\n",
    "            seq = seq[0:5] + _get_signal() + seq[8:len(seq)]\n",
    "        clono_size = _get_clono_size(age, left)\n",
    "        left -= clono_size\n",
    "        airr.append((seq, clono_size))\n",
    "    assert left == 0\n",
    "    return airr\n",
    "\n",
    "\n",
    "def _get_clono_size(age, max_left):\n",
    "    return min(numpy.random.lognormal((120 - age) / 20, 1.5), max_left)\n",
    "\n",
    "\n",
    "def _get_signal():\n",
    "    return random.choice([\"CAT\", \"CAR\", \"CAS\", \"DOG\"])\n",
    "\n",
    "\n",
    "def encode_kmers(airr):\n",
    "    # alphabet = \"ARNDCQEGHILKMFPOSUTWYVBZXJ\"\n",
    "    seq = airr[0][0]\n",
    "    alphabet = \"ACSTRDOG\"\n",
    "    k = 3\n",
    "    kmers = sorted(list([''.join(x) for x in product(*[alphabet] * k)]))\n",
    "    counts = dict([(kmer, 0) for kmer in kmers])\n",
    "    for i in range(len(seq) - k + 1):\n",
    "        sub = seq[i:i + k]\n",
    "        counts[sub] += 1\n",
    "    occ_vector = [counts[kmer] for kmer in kmers]\n",
    "    return occ_vector"
   ]
  },
  {
   "cell_type": "markdown",
   "metadata": {
    "pycharm": {
     "name": "#%%\n"
    }
   },
   "source": [
    "## Define the simulation using Python code"
   ]
  },
  {
   "cell_type": "code",
   "execution_count": null,
   "metadata": {
    "pycharm": {
     "name": "#%%\n"
    }
   },
   "outputs": [],
   "source": [
    "disease = ds.Generic(name=\"disease\", function=numpy.random.binomial, kwargs={\"n\": 1, \"p\": 0.5})\n",
    "age = ds.Generic(name=\"age\", function=lambda l, h: int(numpy.random.uniform(l, h)),\n",
    "                 kwargs={\"l\": 10, \"h\": 80})\n",
    "protocol = ds.Generic(name=\"protocol\", function=assign_protocol, kwargs={\"disease\": disease})\n",
    "airr = ds.Generic(name=\"airr\", function=create_airr, kwargs={\"disease\": disease, \"age\": age, \"protocol\": protocol},\n",
    "                  observed=True)\n",
    "kmer_vec = ds.Generic(name=\"kmer_vec\", function=encode_kmers, kwargs={\"airr\": airr})"
   ]
  },
  {
   "cell_type": "code",
   "execution_count": null,
   "metadata": {
    "pycharm": {
     "name": "#%%\n"
    }
   },
   "outputs": [],
   "source": [
    "graph = ds.Graph(name=\"graph\", list_nodes=[disease, age, protocol, airr, kmer_vec])\n",
    "graph.draw()"
   ]
  },
  {
   "cell_type": "code",
   "execution_count": null,
   "metadata": {
    "pycharm": {
     "name": "#%%\n"
    },
    "scrolled": true
   },
   "outputs": [],
   "source": [
    "data = graph.simulate(num_samples=50, csv_name=\"BioseqExample_v1\")"
   ]
  },
  {
   "cell_type": "markdown",
   "metadata": {
    "pycharm": {
     "name": "#%% md\n"
    }
   },
   "source": [
    "## Define the simulation using YAML"
   ]
  },
  {
   "cell_type": "code",
   "execution_count": null,
   "metadata": {
    "pycharm": {
     "name": "#%%\n"
    }
   },
   "outputs": [],
   "source": [
    "from dagsim.utils.parser import Parser\n",
    "\n",
    "parser = Parser(\"BioseqExample_v1.yaml\")\n",
    "\n",
    "data = parser.parse(verbose=False, draw=False)"
   ]
  }
 ],
 "metadata": {
  "kernelspec": {
   "display_name": "Python 3 (ipykernel)",
   "language": "python",
   "name": "python3"
  },
  "language_info": {
   "codemirror_mode": {
    "name": "ipython",
    "version": 3
   },
   "file_extension": ".py",
   "mimetype": "text/x-python",
   "name": "python",
   "nbconvert_exporter": "python",
   "pygments_lexer": "ipython3",
   "version": "3.8.10"
  }
 },
 "nbformat": 4,
 "nbformat_minor": 1
}