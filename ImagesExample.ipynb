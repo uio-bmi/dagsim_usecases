{
 "cells": [
  {
   "cell_type": "markdown",
   "metadata": {
    "pycharm": {
     "name": "#%% md\n"
    }
   },
   "source": [
    "# Import the libraries"
   ]
  },
  {
   "cell_type": "code",
   "execution_count": 1,
   "metadata": {
    "pycharm": {
     "name": "#%%\n"
    }
   },
   "outputs": [],
   "source": [
    "import dagsim.base as ds\n",
    "import numpy as np\n",
    "import os\n",
    "from PIL import Image as PILImage\n",
    "import shutil"
   ]
  },
  {
   "cell_type": "markdown",
   "source": [
    "# Define the simulation using Python code"
   ],
   "metadata": {
    "collapsed": false,
    "pycharm": {
     "name": "#%% md\n"
    }
   }
  },
  {
   "cell_type": "markdown",
   "source": [
    "## Define the functions"
   ],
   "metadata": {
    "collapsed": false,
    "pycharm": {
     "name": "#%% md\n"
    }
   }
  },
  {
   "cell_type": "code",
   "execution_count": 2,
   "metadata": {
    "pycharm": {
     "name": "#%%\n"
    }
   },
   "outputs": [],
   "source": [
    "def create_circular_mask():\n",
    "\n",
    "    randC1 = np.random.randint(low=10, high=246)\n",
    "    randC2 = np.random.randint(low=10, high=246)\n",
    "\n",
    "    Y, X = np.ogrid[:256, :256]\n",
    "    dist_from_center = np.sqrt((X-randC1)**2 + (Y-randC2)**2)\n",
    "\n",
    "    mask = (dist_from_center <= 10)*256\n",
    "    return mask\n",
    "    \n",
    "\n",
    "def complement_binomial(U1):\n",
    "    return np.random.binomial(1, 1-U1)\n",
    "\n",
    "def sigmoid_binomial(C, Dnum, Dstr):\n",
    "    if Dstr==\"H\":\n",
    "        out = 0.75*Dnum + 0.5*C + 0.25\n",
    "    else:\n",
    "        out = 2.5*Dnum + 1.75*C - 0.25\n",
    "    out = 1/(1 + np.exp(-out))\n",
    "    out = np.random.binomial(1, out)\n",
    "    return out\n",
    "\n",
    "def drawImage(H, V, R, C, output_path):\n",
    "    image = np.zeros(shape=(256, 256))\n",
    "    randInd = np.random.randint(low=1, high=10000)\n",
    "    if H == 1:\n",
    "        randPosH = np.random.randint(low=10, high=246)\n",
    "        image[randPosH - 5:randPosH + 5, :] = 256\n",
    "\n",
    "    if V == 1:\n",
    "        randPosV = np.random.randint(low=10, high=246)\n",
    "        image[:, randPosV - 5:randPosV + 5] = 256\n",
    "\n",
    "    if C == 1:\n",
    "        mask = create_circular_mask()\n",
    "        image = image + mask\n",
    "\n",
    "    if R == 1:\n",
    "        TLy = np.random.randint(low=0, high=226)  # y-coordinate of the top-left corner\n",
    "        TLx = np.random.randint(low=0, high=206)  # x-coordinate of the top-left corner\n",
    "\n",
    "        image[TLy: TLy+30, TLx: TLx+50] = 256\n",
    "\n",
    "    image = image + np.random.binomial(1, 0.005, size=(256, 256)) * 256\n",
    "    image = PILImage.fromarray(image)\n",
    "    image = image.convert(\"L\")\n",
    "    image.save(output_path + \"/\" + str(randInd) + \".png\")"
   ]
  },
  {
   "cell_type": "markdown",
   "source": [
    "## Define and draw the graph"
   ],
   "metadata": {
    "collapsed": false,
    "pycharm": {
     "name": "#%% md\n"
    }
   }
  },
  {
   "cell_type": "code",
   "execution_count": 3,
   "metadata": {
    "pycharm": {
     "name": "#%%\n"
    }
   },
   "outputs": [],
   "source": [
    "U1 = ds.Node(name=\"U1\", function=np.random.uniform)\n",
    "U2 = ds.Node(name=\"U2\", function=np.random.uniform)\n",
    "\n",
    "H = ds.Node(name=\"H\", function=np.random.binomial, kwargs={\"n\":1, \"p\":U1})\n",
    "C = ds.Node(name=\"C\", function=np.random.binomial, kwargs={\"n\":1, \"p\":U2})\n",
    "\n",
    "V = ds.Node(name=\"V\", function=complement_binomial, kwargs={\"U1\":U1})\n",
    "\n",
    "R = ds.Node(name=\"R\", function=sigmoid_binomial, kwargs={\"C\":C, \"Dnum\":H, \"Dstr\":\"H\"})\n",
    "Y = ds.Node(name=\"Y\", function=sigmoid_binomial, kwargs={\"C\":C, \"Dnum\":V, \"Dstr\":\"V\"})\n",
    "\n",
    "Image = ds.Node(name=\"Image\", function=drawImage, kwargs={\"H\":H, \"V\":V, \"R\":R, \"C\":C})"
   ]
  },
  {
   "cell_type": "code",
   "execution_count": 4,
   "outputs": [],
   "source": [
    "graph = ds.Graph(list_nodes=[U1, U2, H, V, C, R, Y, Image])\n",
    "graph.draw()"
   ],
   "metadata": {
    "collapsed": false,
    "pycharm": {
     "name": "#%%\n"
    }
   }
  },
  {
   "cell_type": "markdown",
   "source": [
    "## Simulate images"
   ],
   "metadata": {
    "collapsed": false,
    "pycharm": {
     "name": "#%% md\n"
    }
   }
  },
  {
   "cell_type": "code",
   "execution_count": 5,
   "metadata": {
    "pycharm": {
     "name": "#%%\n"
    }
   },
   "outputs": [
    {
     "name": "stdout",
     "output_type": "stream",
     "text": [
      "2022-07-27 09:39:25.151843: Simulation started.\n",
      "2022-07-27 09:39:25.152565: Simulating node \"U1\".\n",
      "2022-07-27 09:39:25.153420: Simulating node \"U2\".\n",
      "2022-07-27 09:39:25.154248: Simulating node \"H\".\n",
      "2022-07-27 09:39:25.155087: Simulating node \"V\".\n",
      "2022-07-27 09:39:25.156475: Simulating node \"C\".\n",
      "2022-07-27 09:39:25.157497: Simulating node \"R\".\n",
      "2022-07-27 09:39:25.158854: Simulating node \"Y\".\n",
      "2022-07-27 09:39:25.160086: Simulating node \"Image\".\n",
      "2022-07-27 09:39:25.292539: Simulation finished in 0.1407 seconds.\n"
     ]
    }
   ],
   "source": [
    "folder = './images'\n",
    "if os.path.exists(folder):\n",
    "    shutil.rmtree(folder)\n",
    "\n",
    "os.mkdir(folder)\n",
    "\n",
    "n = graph.simulate(num_samples=50, output_path=\"./images\")"
   ]
  },
  {
   "cell_type": "markdown",
   "source": [
    "# Define the simulation using YAML"
   ],
   "metadata": {
    "collapsed": false,
    "pycharm": {
     "name": "#%% md\n"
    }
   }
  },
  {
   "cell_type": "code",
   "execution_count": 6,
   "outputs": [
    {
     "name": "stdout",
     "output_type": "stream",
     "text": [
      "2022-07-27 09:39:25.323328: Simulation started.\n",
      "2022-07-27 09:39:25.324129: Simulating node \"U1\".\n",
      "2022-07-27 09:39:25.325325: Simulating node \"U2\".\n",
      "2022-07-27 09:39:25.326392: Simulating node \"H\".\n",
      "2022-07-27 09:39:25.327445: Simulating node \"V\".\n",
      "2022-07-27 09:39:25.328394: Simulating node \"C\".\n",
      "2022-07-27 09:39:25.329415: Simulating node \"R\".\n",
      "2022-07-27 09:39:25.330764: Simulating node \"Y\".\n",
      "2022-07-27 09:39:25.331984: Simulating node \"Image\".\n",
      "2022-07-27 09:39:25.441875: Simulation finished in 0.1186 seconds.\n"
     ]
    }
   ],
   "source": [
    "from dagsim.utils.parser import DagSimSpec\n",
    "\n",
    "folder = './images'\n",
    "if os.path.exists(folder):\n",
    "    shutil.rmtree(folder)\n",
    "\n",
    "os.mkdir(folder)\n",
    "\n",
    "data = DagSimSpec(\"ImagesExample.yaml\").parse(verbose=False, draw=False)"
   ],
   "metadata": {
    "collapsed": false,
    "pycharm": {
     "name": "#%%\n"
    }
   }
  }
 ],
 "metadata": {
  "kernelspec": {
   "display_name": "Python 3 (ipykernel)",
   "language": "python",
   "name": "python3"
  },
  "language_info": {
   "codemirror_mode": {
    "name": "ipython",
    "version": 3
   },
   "file_extension": ".py",
   "mimetype": "text/x-python",
   "name": "python",
   "nbconvert_exporter": "python",
   "pygments_lexer": "ipython3",
   "version": "3.8.10"
  }
 },
 "nbformat": 4,
 "nbformat_minor": 1
}