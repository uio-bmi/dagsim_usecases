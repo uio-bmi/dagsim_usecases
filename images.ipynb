{
 "cells": [
  {
   "cell_type": "markdown",
   "metadata": {},
   "source": [
    "## Import"
   ]
  },
  {
   "cell_type": "code",
   "execution_count": 116,
   "metadata": {},
   "outputs": [],
   "source": [
    "import dagsim.base as ds\n",
    "import numpy as np\n",
    "from PIL import Image"
   ]
  },
  {
   "cell_type": "code",
   "execution_count": 27,
   "metadata": {},
   "outputs": [
    {
     "name": "stdout",
     "output_type": "stream",
     "text": [
      "/home/ghadi/Documents/PhD/dagsimManuscript\n"
     ]
    }
   ],
   "source": [
    "import os\n",
    "print(os.getcwd())"
   ]
  },
  {
   "cell_type": "code",
   "execution_count": 146,
   "metadata": {},
   "outputs": [],
   "source": [
    "# https://newbedev.com/how-can-i-create-a-circular-mask-for-a-numpy-array\n",
    "    \n",
    "def create_circular_mask(h=256, w=256, center=None, radius=10):\n",
    "\n",
    "    if center is None: # use the middle of the image\n",
    "        center = (int(w/2), int(h/2))\n",
    "    if radius is None: # use the smallest distance between the center and image walls\n",
    "        radius = min(center[0], center[1], w-center[0], h-center[1])\n",
    "\n",
    "    Y, X = np.ogrid[:h, :w]\n",
    "    dist_from_center = np.sqrt((X - center[0])**2 + (Y-center[1])**2)\n",
    "\n",
    "    mask = (dist_from_center <= radius)*256\n",
    "    return mask\n",
    "    \n",
    "\n",
    "def Ber(U1):\n",
    "    return np.random.binomial(1, 1-U1)\n",
    "\n",
    "def BerExp(C, Dnum, Dstr):\n",
    "    if Dstr==\"H\":\n",
    "        out = 0.75*Dnum + 0.5*C + 0.25\n",
    "    else:\n",
    "        out = 2.5*Dnum + 1.75*C - 0.25\n",
    "    out = 1/(1 + np.exp(-out))\n",
    "    out = np.random.binomial(1, out)\n",
    "    return out\n",
    "\n",
    "def drawImage(H, V, R, C, output_path):\n",
    "    image = np.zeros(shape=(256, 256))\n",
    "    randInd = np.random.randint(low=1, high=10000)\n",
    "    if H==1:\n",
    "        randPosH = np.random.randint(low=10, high=246)\n",
    "#         print(randPosH)\n",
    "        image[randPosH-5:randPosH+5, :]=256\n",
    "        \n",
    "    if V==1:\n",
    "        randPosV = np.random.randint(low=10, high=246)\n",
    "#         print(randPosV)\n",
    "        image[:, randPosV-5:randPosV+5]=256\n",
    "        \n",
    "    if C==1:\n",
    "#         print(\"cir\")\n",
    "        randC1 = np.random.randint(low=10, high=246)\n",
    "        randC2 = np.random.randint(low=10, high=246)\n",
    "        \n",
    "        mask = create_circular_mask(center=(randC1, randC2))\n",
    "        image = image + mask\n",
    "#         circle = (randC1) ** 2 + (randC2) ** 2\n",
    "#         donut = numpy.logical_and(circle < (5), circle > (5))\n",
    "        \n",
    "        \n",
    "    image = image + np.random.binomial(1, 0.005, size=(256,256))*256\n",
    "    image = Image.fromarray(image)\n",
    "    image = image.convert(\"L\")\n",
    "    image.save(output_path + \"/\" + str(randInd) + \".png\")"
   ]
  },
  {
   "cell_type": "code",
   "execution_count": 147,
   "metadata": {
    "pycharm": {
     "name": "#%%\n"
    }
   },
   "outputs": [],
   "source": [
    "U1 = ds.Generic(name=\"U_1\", function=np.random.uniform)\n",
    "U2 = ds.Generic(name=\"U_2\", function=np.random.uniform)\n",
    "\n",
    "H = ds.Generic(name=\"H\", function=np.random.binomial, arguments={\"n\":1, \"p\":U1})\n",
    "C = ds.Generic(name=\"C\", function=np.random.binomial, arguments={\"n\":1, \"p\":U2})\n",
    "\n",
    "V = ds.Generic(name=\"V\", function=Ber, arguments={\"U1\":U1})\n",
    "\n",
    "R = ds.Generic(name=\"R\", function=BerExp, arguments={\"C\":C, \"Dnum\":H, \"Dstr\":\"H\"})\n",
    "Y = ds.Generic(name=\"Y\", function=BerExp, arguments={\"C\":C, \"Dnum\":V, \"Dstr\":\"V\"})\n",
    "\n",
    "I = ds.Generic(name=\"Image\", function=drawImage, arguments={\"H\":H, \"V\":V, \"R\":R, \"C\":C}, visible=False)\n",
    "\n",
    "graph = ds.Graph(name=\"testImages\", list_nodes=[U1, U2, H, V, C, R, Y, I])\n",
    "# graph.draw()"
   ]
  },
  {
   "cell_type": "code",
   "execution_count": 150,
   "metadata": {
    "pycharm": {
     "name": "#%%\n"
    }
   },
   "outputs": [
    {
     "name": "stdout",
     "output_type": "stream",
     "text": [
      "Simulation started\n",
      "Simulation finished in 0.1041 seconds\n"
     ]
    }
   ],
   "source": [
    "folder = './images'\n",
    "if os.path.exists(folder):\n",
    "    for f in os.listdir(folder):\n",
    "        os.remove(os.path.join(folder, f))\n",
    "else:\n",
    "    os.mkdir(folder)\n",
    "    \n",
    "#     shutil.rmtree('./images')\n",
    "# os.mkdir(\"./images\")\n",
    "\n",
    "n = graph.simulate(num_samples=50, output_path=\"./images\")"
   ]
  },
  {
   "cell_type": "markdown",
   "metadata": {},
   "source": [
    "## ----------------------------------------------------------------------------------------------------------------"
   ]
  }
 ],
 "metadata": {
  "kernelspec": {
   "display_name": "Python 3 (ipykernel)",
   "language": "python",
   "name": "python3"
  },
  "language_info": {
   "codemirror_mode": {
    "name": "ipython",
    "version": 3
   },
   "file_extension": ".py",
   "mimetype": "text/x-python",
   "name": "python",
   "nbconvert_exporter": "python",
   "pygments_lexer": "ipython3",
   "version": "3.8.10"
  }
 },
 "nbformat": 4,
 "nbformat_minor": 1
}