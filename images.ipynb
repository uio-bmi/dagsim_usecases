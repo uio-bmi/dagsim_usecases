{
 "cells": [
  {
   "cell_type": "markdown",
   "metadata": {},
   "source": [
    "## Import"
   ]
  },
  {
   "cell_type": "code",
   "execution_count": 26,
   "metadata": {},
   "outputs": [],
   "source": [
    "import dagsim.base as ds\n",
    "import numpy as np\n",
    "from PIL import Image\n",
    "import shutil"
   ]
  },
  {
   "cell_type": "code",
   "execution_count": 27,
   "metadata": {},
   "outputs": [
    {
     "name": "stdout",
     "output_type": "stream",
     "text": [
      "/home/ghadi/Documents/PhD/dagsimManuscript\n"
     ]
    }
   ],
   "source": [
    "import os\n",
    "print(os.getcwd())"
   ]
  },
  {
   "cell_type": "code",
   "execution_count": 105,
   "metadata": {},
   "outputs": [],
   "source": [
    "def random_exclude(range_start, range_end, excludes):\n",
    "    r = random.randint(range_start, range_end)\n",
    "    if r in excludes:\n",
    "        return random_exclude(range_start, range_end, excludes)\n",
    "    return r\n",
    "\n",
    "def Ber(U1):\n",
    "    return np.random.binomial(1, 1-U1)\n",
    "\n",
    "def BerExp(C, Dnum, Dstr):\n",
    "    if Dstr==\"H\":\n",
    "        out = 0.75*Dnum + 0.5*C + 0.25\n",
    "    else:\n",
    "        out = 2.5*Dnum + 1.75*C - 0.25\n",
    "    out = 1/(1 + np.exp(-out))\n",
    "    out = np.random.binomial(1, out)\n",
    "    return out\n",
    "\n",
    "def drawImage(H, V, R, C, output_path):\n",
    "    image = np.zeros(shape=(256, 256))\n",
    "    randInd = np.random.randint(low=1, high=10000)\n",
    "    if H==1:\n",
    "        randPosH = np.random.randint(low=10, high=246)\n",
    "        print(randPosH)\n",
    "        image[randPosH-5:randPosH+5, :]=256\n",
    "        \n",
    "    if V==1:\n",
    "        randPosV = np.random.randint(low=10, high=246)\n",
    "        print(randPosV)\n",
    "        image[:, randPosV-5:randPosV+5]=256\n",
    "        \n",
    "    if C==1:\n",
    "        randC1 = np.random.randint(low=10, high=246)\n",
    "        randC2 = np.random.randint(low=10, high=246)\n",
    "\n",
    "        circle = (randC1) ** 2 + (randC2) ** 2\n",
    "        donut = numpy.logical_and(circle < (5), circle > (5))\n",
    "        \n",
    "        \n",
    "    image = image + np.random.binomial(1, 0.005, size=(256,256))*256\n",
    "    image = Image.fromarray(image)\n",
    "    image = image.convert(\"L\")\n",
    "    image.save(output_path + \"/\" + str(randInd) + \".png\")"
   ]
  },
  {
   "cell_type": "code",
   "execution_count": 106,
   "metadata": {
    "pycharm": {
     "name": "#%%\n"
    }
   },
   "outputs": [],
   "source": [
    "U1 = ds.Generic(name=\"U_1\", function=np.random.uniform)\n",
    "U2 = ds.Generic(name=\"U_2\", function=np.random.uniform)\n",
    "\n",
    "H = ds.Generic(name=\"H\", function=np.random.binomial, arguments={\"n\":1, \"p\":U1})\n",
    "C = ds.Generic(name=\"C\", function=np.random.binomial, arguments={\"n\":1, \"p\":U2})\n",
    "\n",
    "V = ds.Generic(name=\"V\", function=Ber, arguments={\"U1\":U1})\n",
    "\n",
    "R = ds.Generic(name=\"R\", function=BerExp, arguments={\"C\":C, \"Dnum\":H, \"Dstr\":\"H\"})\n",
    "Y = ds.Generic(name=\"Y\", function=BerExp, arguments={\"C\":C, \"Dnum\":V, \"Dstr\":\"V\"})\n",
    "\n",
    "I = ds.Generic(name=\"Image\", function=drawImage, arguments={\"H\":H, \"V\":V, \"R\":R, \"C\":C}, visible=False)\n",
    "\n",
    "graph = ds.Graph(name=\"testImages\", list_nodes=[U1, U2, H, V, C, R, Y, I])\n",
    "# graph.draw()"
   ]
  },
  {
   "cell_type": "code",
   "execution_count": 107,
   "metadata": {
    "pycharm": {
     "name": "#%%\n"
    }
   },
   "outputs": [
    {
     "name": "stdout",
     "output_type": "stream",
     "text": [
      "Simulation started\n",
      "76\n",
      "46\n",
      "test  46\n",
      "191\n",
      "test  191\n",
      "181\n",
      "test  181\n",
      "93\n",
      "208\n",
      "test  208\n",
      "175\n",
      "test  175\n",
      "92\n",
      "test  92\n",
      "Simulation finished in 0.0306 seconds\n"
     ]
    }
   ],
   "source": [
    "if os.path.exists('./images'):\n",
    "    shutil.rmtree('./images')\n",
    "os.mkdir(\"./images\")\n",
    "\n",
    "n = graph.simulate(num_samples=10, output_path=\"./images\")"
   ]
  },
  {
   "cell_type": "code",
   "execution_count": 98,
   "metadata": {},
   "outputs": [
    {
     "data": {
      "text/plain": [
       "array([[0, 0, 1, 0, 0, 1, 0, 0, 0, 0],\n",
       "       [1, 0, 0, 0, 1, 0, 0, 1, 1, 1],\n",
       "       [1, 0, 1, 0, 0, 1, 1, 1, 0, 0],\n",
       "       [1, 0, 0, 0, 1, 0, 1, 0, 1, 1],\n",
       "       [0, 0, 0, 1, 1, 1, 0, 0, 0, 0],\n",
       "       [0, 0, 0, 0, 1, 0, 0, 0, 0, 1],\n",
       "       [0, 0, 0, 1, 1, 0, 0, 0, 0, 0],\n",
       "       [1, 1, 0, 0, 0, 0, 1, 0, 0, 1],\n",
       "       [0, 1, 1, 0, 1, 1, 0, 1, 0, 0],\n",
       "       [0, 0, 0, 1, 0, 1, 1, 0, 1, 0]])"
      ]
     },
     "execution_count": 98,
     "metadata": {},
     "output_type": "execute_result"
    }
   ],
   "source": [
    "np.random.binomial(1, 0.3, size=(10,10))"
   ]
  },
  {
   "cell_type": "code",
   "execution_count": 110,
   "metadata": {},
   "outputs": [
    {
     "name": "stdout",
     "output_type": "stream",
     "text": [
      "[[0 1 2 3 4 5 6 7 8 9]]\n",
      "[[0]\n",
      " [1]\n",
      " [2]\n",
      " [3]\n",
      " [4]\n",
      " [5]\n",
      " [6]\n",
      " [7]\n",
      " [8]\n",
      " [9]]\n"
     ]
    }
   ],
   "source": [
    "Y, X = np.ogrid[:10, :10]\n",
    "center = [5,5]\n",
    "print(X)\n",
    "print(Y)"
   ]
  },
  {
   "cell_type": "code",
   "execution_count": 111,
   "metadata": {},
   "outputs": [],
   "source": [
    "dist_from_center = np.sqrt((X - center[0])**2 + (Y-center[1])**2)"
   ]
  },
  {
   "cell_type": "code",
   "execution_count": 112,
   "metadata": {},
   "outputs": [
    {
     "data": {
      "text/plain": [
       "array([[7.07106781, 6.40312424, 5.83095189, 5.38516481, 5.09901951,\n",
       "        5.        , 5.09901951, 5.38516481, 5.83095189, 6.40312424],\n",
       "       [6.40312424, 5.65685425, 5.        , 4.47213595, 4.12310563,\n",
       "        4.        , 4.12310563, 4.47213595, 5.        , 5.65685425],\n",
       "       [5.83095189, 5.        , 4.24264069, 3.60555128, 3.16227766,\n",
       "        3.        , 3.16227766, 3.60555128, 4.24264069, 5.        ],\n",
       "       [5.38516481, 4.47213595, 3.60555128, 2.82842712, 2.23606798,\n",
       "        2.        , 2.23606798, 2.82842712, 3.60555128, 4.47213595],\n",
       "       [5.09901951, 4.12310563, 3.16227766, 2.23606798, 1.41421356,\n",
       "        1.        , 1.41421356, 2.23606798, 3.16227766, 4.12310563],\n",
       "       [5.        , 4.        , 3.        , 2.        , 1.        ,\n",
       "        0.        , 1.        , 2.        , 3.        , 4.        ],\n",
       "       [5.09901951, 4.12310563, 3.16227766, 2.23606798, 1.41421356,\n",
       "        1.        , 1.41421356, 2.23606798, 3.16227766, 4.12310563],\n",
       "       [5.38516481, 4.47213595, 3.60555128, 2.82842712, 2.23606798,\n",
       "        2.        , 2.23606798, 2.82842712, 3.60555128, 4.47213595],\n",
       "       [5.83095189, 5.        , 4.24264069, 3.60555128, 3.16227766,\n",
       "        3.        , 3.16227766, 3.60555128, 4.24264069, 5.        ],\n",
       "       [6.40312424, 5.65685425, 5.        , 4.47213595, 4.12310563,\n",
       "        4.        , 4.12310563, 4.47213595, 5.        , 5.65685425]])"
      ]
     },
     "execution_count": 112,
     "metadata": {},
     "output_type": "execute_result"
    }
   ],
   "source": [
    "dist_from_center"
   ]
  },
  {
   "cell_type": "code",
   "execution_count": null,
   "metadata": {},
   "outputs": [],
   "source": [
    "mask = dist_from_center <= radius"
   ]
  },
  {
   "cell_type": "code",
   "execution_count": null,
   "metadata": {},
   "outputs": [],
   "source": []
  },
  {
   "cell_type": "markdown",
   "metadata": {},
   "source": []
  }
 ],
 "metadata": {
  "kernelspec": {
   "display_name": "Python 3 (ipykernel)",
   "language": "python",
   "name": "python3"
  },
  "language_info": {
   "codemirror_mode": {
    "name": "ipython",
    "version": 3
   },
   "file_extension": ".py",
   "mimetype": "text/x-python",
   "name": "python",
   "nbconvert_exporter": "python",
   "pygments_lexer": "ipython3",
   "version": "3.8.10"
  },
  "pycharm": {
   "stem_cell": {
    "cell_type": "raw",
    "metadata": {
     "collapsed": false
    },
    "source": [
     "import dagsim.base as ds\n",
     "import numpy as np"
    ]
   }
  }
 },
 "nbformat": 4,
 "nbformat_minor": 1
}