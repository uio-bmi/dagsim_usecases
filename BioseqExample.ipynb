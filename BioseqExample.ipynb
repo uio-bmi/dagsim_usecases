{
 "cells": [
  {
   "cell_type": "markdown",
   "source": [
    "# Import the libraries"
   ],
   "metadata": {
    "collapsed": false,
    "pycharm": {
     "name": "#%% md\n"
    }
   }
  },
  {
   "cell_type": "code",
   "execution_count": null,
   "outputs": [],
   "source": [
    "import numpy.random\n",
    "import random\n",
    "from itertools import product\n",
    "from dagsim.base import Graph, Node"
   ],
   "metadata": {
    "collapsed": false,
    "pycharm": {
     "name": "#%%\n"
    }
   }
  },
  {
   "cell_type": "markdown",
   "source": [
    "# Define the simulation using Python code"
   ],
   "metadata": {
    "collapsed": false,
    "pycharm": {
     "name": "#%% md\n"
    }
   }
  },
  {
   "cell_type": "markdown",
   "source": [
    "## Define the functions"
   ],
   "metadata": {
    "collapsed": false,
    "pycharm": {
     "name": "#%% md\n"
    }
   }
  },
  {
   "cell_type": "code",
   "execution_count": null,
   "outputs": [],
   "source": [
    "\n",
    "BASE_SEQ_FN = \"rep.txt\"\n",
    "AIRR_SIZE = 1000\n",
    "\n",
    "\n",
    "def _get_olga_seq(protocol):\n",
    "    for line in open(BASE_SEQ_FN):\n",
    "        seq = line.strip()\n",
    "        if len(seq) < 10:\n",
    "            continue\n",
    "        if protocol == 1 and not seq.startswith(\"CAS\"):\n",
    "            continue\n",
    "        yield seq\n",
    "\n",
    "\n",
    "def assign_protocol(disease):\n",
    "    return numpy.random.binomial(1, 0.1 + 0.8 * disease)\n",
    "\n",
    "\n",
    "def create_airr(disease, age, protocol):\n",
    "    airr = []\n",
    "    left = AIRR_SIZE\n",
    "    for seq in _get_olga_seq(protocol):\n",
    "        if left == 0:\n",
    "            break\n",
    "        if disease == 1:\n",
    "            seq = seq[0:5] + _get_signal() + seq[8:len(seq)]\n",
    "        clono_size = _get_clono_size(age, left)\n",
    "        left -= clono_size\n",
    "        airr.append((seq, clono_size))\n",
    "    assert left == 0\n",
    "    return airr\n",
    "\n",
    "\n",
    "def _get_clono_size(age, max_left):\n",
    "    return int(min(numpy.random.lognormal((120 - age) / 20, 1.5), max_left))\n",
    "\n",
    "\n",
    "def _get_signal():\n",
    "    return random.choice([\"CAT\", \"CAR\", \"CAS\", \"DOG\"])\n",
    "\n",
    "\n",
    "def encode_kmers(airr):\n",
    "    alphabet = \"ARNDCQEGHILKMFPOSUTWYVBZXJ\"\n",
    "    k = 3\n",
    "    kmers = sorted(list([''.join(x) for x in product(*[alphabet] * k)]))\n",
    "    counts = dict([(kmer, 0) for kmer in kmers])\n",
    "    for seq, _ in airr:\n",
    "        for i in range(len(seq) - k + 1):\n",
    "            sub = seq[i:i + k]\n",
    "            counts[sub] += 1\n",
    "    occ_vector = [counts[kmer] for kmer in kmers]\n",
    "    return occ_vector"
   ],
   "metadata": {
    "collapsed": false,
    "pycharm": {
     "name": "#%%\n"
    }
   }
  },
  {
   "cell_type": "markdown",
   "source": [
    "## Define and draw the graph"
   ],
   "metadata": {
    "collapsed": false,
    "pycharm": {
     "name": "#%% md\n"
    }
   }
  },
  {
   "cell_type": "code",
   "execution_count": null,
   "metadata": {
    "pycharm": {
     "name": "#%%\n"
    }
   },
   "outputs": [],
   "source": [
    "disease = Node(name=\"Disease\", function=numpy.random.binomial, kwargs={\"n\": 1, \"p\": 0.5})\n",
    "age = Node(name=\"Age\", function=numpy.random.randint, kwargs={\"low\": 10, \"high\": 80})\n",
    "protocol = Node(name=\"Protocol\", function=assign_protocol, kwargs={\"disease\": disease})\n",
    "airr = Node(name=\"AIRR\", function=create_airr, kwargs={\"disease\": disease, \"age\": age, \"protocol\": protocol},\n",
    "                  observed=True)\n",
    "kmer_vec = Node(name=\"kmerVec\", function=encode_kmers, kwargs={\"airr\": airr})"
   ]
  },
  {
   "cell_type": "code",
   "execution_count": null,
   "metadata": {
    "pycharm": {
     "name": "#%%\n"
    }
   },
   "outputs": [],
   "source": [
    "graph = Graph(list_nodes=[disease, age, protocol, airr, kmer_vec])\n",
    "graph.draw()"
   ]
  },
  {
   "cell_type": "markdown",
   "source": [
    "## Simulate repertoires"
   ],
   "metadata": {
    "collapsed": false,
    "pycharm": {
     "name": "#%% md\n"
    }
   }
  },
  {
   "cell_type": "code",
   "execution_count": null,
   "metadata": {
    "pycharm": {
     "name": "#%%\n"
    },
    "scrolled": true
   },
   "outputs": [],
   "source": [
    "data = graph.simulate(num_samples=50, csv_name=\"BioseqExample\")"
   ]
  },
  {
   "cell_type": "markdown",
   "metadata": {
    "pycharm": {
     "name": "#%% md\n"
    }
   },
   "source": [
    "# Define the simulation using YAML"
   ]
  },
  {
   "cell_type": "code",
   "execution_count": null,
   "metadata": {
    "pycharm": {
     "name": "#%%\n"
    }
   },
   "outputs": [],
   "source": [
    "from dagsim.utils.parser import DagSimSpec\n",
    "\n",
    "data = DagSimSpec(\"BioseqExample.yaml\").parse(verbose=False, draw=False)"
   ]
  },
  {
   "cell_type": "markdown",
   "source": [
    "# Train a Logistic Regression model"
   ],
   "metadata": {
    "collapsed": false,
    "pycharm": {
     "name": "#%% md\n"
    }
   }
  },
  {
   "cell_type": "code",
   "execution_count": null,
   "outputs": [],
   "source": [
    "from sklearn.linear_model import LogisticRegression\n",
    "import numpy as np\n",
    "\n",
    "X = np.array(data[\"kmerVec\"])\n",
    "print(X.shape)\n",
    "\n",
    "y = np.array(data[\"Disease\"])\n",
    "print(y.shape)\n",
    "\n",
    "n = 30\n",
    "\n",
    "X_train = X[:n]\n",
    "X_test =  X[n:]\n",
    "\n",
    "y_train = y[:n]\n",
    "y_test =  y[n:]\n",
    "\n",
    "\n",
    "clf = LogisticRegression()\n",
    "clf.fit(X_train, y_train)\n",
    "print(clf.score(X_test,y_test))\n"
   ],
   "metadata": {
    "collapsed": false,
    "pycharm": {
     "name": "#%%\n"
    }
   }
  },
  {
   "cell_type": "markdown",
   "source": [
    "## Get the kmers with the top-5 highest scores"
   ],
   "metadata": {
    "collapsed": false,
    "pycharm": {
     "name": "#%% md\n"
    }
   }
  },
  {
   "cell_type": "code",
   "execution_count": null,
   "outputs": [],
   "source": [
    "k = 3\n",
    "alphabet = \"ARNDCQEGHILKMFPOSUTWYVBZXJ\"\n",
    "kmers_list = sorted(list([''.join(x) for x in product(*[alphabet] * k)]))\n",
    "print(kmers_list[:5])"
   ],
   "metadata": {
    "collapsed": false,
    "pycharm": {
     "name": "#%%\n"
    }
   }
  },
  {
   "cell_type": "code",
   "execution_count": null,
   "outputs": [],
   "source": [
    "m = 5\n",
    "\n",
    "clist = list(clf.coef_[0])\n",
    "x = sorted(clist)[-m-2]\n",
    "\n",
    "clist = [1 if c>x else 0 for c in clist]\n",
    "\n",
    "klist = [kmers_list[i] for i in range(len(kmers_list)) if clist[i]==1]\n",
    "print(klist)"
   ],
   "metadata": {
    "collapsed": false,
    "pycharm": {
     "name": "#%%\n"
    }
   }
  }
 ],
 "metadata": {
  "kernelspec": {
   "display_name": "Python 3 (ipykernel)",
   "language": "python",
   "name": "python3"
  },
  "language_info": {
   "codemirror_mode": {
    "name": "ipython",
    "version": 3
   },
   "file_extension": ".py",
   "mimetype": "text/x-python",
   "name": "python",
   "nbconvert_exporter": "python",
   "pygments_lexer": "ipython3",
   "version": "3.8.10"
  }
 },
 "nbformat": 4,
 "nbformat_minor": 1
}